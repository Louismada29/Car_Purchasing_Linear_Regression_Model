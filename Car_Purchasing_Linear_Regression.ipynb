{
  "nbformat": 4,
  "nbformat_minor": 0,
  "metadata": {
    "colab": {
      "name": "Car_Purchasing_Linear_Regression.ipynb",
      "provenance": [],
      "collapsed_sections": [],
      "authorship_tag": "ABX9TyNZNQWM5D4yfjGixyf2qNNl",
      "include_colab_link": true
    },
    "kernelspec": {
      "name": "python3",
      "display_name": "Python 3"
    },
    "language_info": {
      "name": "python"
    }
  },
  "cells": [
    {
      "cell_type": "markdown",
      "metadata": {
        "id": "view-in-github",
        "colab_type": "text"
      },
      "source": [
        "<a href=\"https://colab.research.google.com/github/Louismada29/Car_Purchasing_Linear_Regression_Model/blob/main/Car_Purchasing_Linear_Regression.ipynb\" target=\"_parent\"><img src=\"https://colab.research.google.com/assets/colab-badge.svg\" alt=\"Open In Colab\"/></a>"
      ]
    },
    {
      "cell_type": "markdown",
      "source": [
        "# import Library"
      ],
      "metadata": {
        "id": "5tdnEV4WRB2B"
      }
    },
    {
      "cell_type": "code",
      "execution_count": 96,
      "metadata": {
        "id": "NQPe-HXZQM55"
      },
      "outputs": [],
      "source": [
        "import pandas as pd\n",
        "import numpy as np\n",
        "import matplotlib.pyplot as plt\n",
        "import seaborn as sns"
      ]
    },
    {
      "cell_type": "markdown",
      "source": [
        "# Load Dataset"
      ],
      "metadata": {
        "id": "Jud6T_EXRQns"
      }
    },
    {
      "cell_type": "code",
      "source": [
        "data = pd.read_csv('https://raw.githubusercontent.com/Louismada29/Car_Purchasing_Linear_Regression_Model/main/Dataset_7%20-%20Otomotic.csv')\n",
        "data.head()"
      ],
      "metadata": {
        "colab": {
          "base_uri": "https://localhost:8080/",
          "height": 206
        },
        "id": "KOYHpCNmRIFM",
        "outputId": "1ff16266-abb3-4dc2-be7f-03d6986c6339"
      },
      "execution_count": 97,
      "outputs": [
        {
          "output_type": "execute_result",
          "data": {
            "text/html": [
              "\n",
              "  <div id=\"df-9f408106-6937-46ad-92c5-2353ea20b7d4\">\n",
              "    <div class=\"colab-df-container\">\n",
              "      <div>\n",
              "<style scoped>\n",
              "    .dataframe tbody tr th:only-of-type {\n",
              "        vertical-align: middle;\n",
              "    }\n",
              "\n",
              "    .dataframe tbody tr th {\n",
              "        vertical-align: top;\n",
              "    }\n",
              "\n",
              "    .dataframe thead th {\n",
              "        text-align: right;\n",
              "    }\n",
              "</style>\n",
              "<table border=\"1\" class=\"dataframe\">\n",
              "  <thead>\n",
              "    <tr style=\"text-align: right;\">\n",
              "      <th></th>\n",
              "      <th>Customer Name</th>\n",
              "      <th>Customer e-mail</th>\n",
              "      <th>Country</th>\n",
              "      <th>Gender</th>\n",
              "      <th>Age</th>\n",
              "      <th>Annual Salary</th>\n",
              "      <th>Credit Card Debt</th>\n",
              "      <th>Net Worth</th>\n",
              "      <th>Car Purchase Amount</th>\n",
              "    </tr>\n",
              "  </thead>\n",
              "  <tbody>\n",
              "    <tr>\n",
              "      <th>0</th>\n",
              "      <td>Martina Avila</td>\n",
              "      <td>cubilia.Curae.Phasellus@quisaccumsanconvallis.edu</td>\n",
              "      <td>USA</td>\n",
              "      <td>0</td>\n",
              "      <td>42</td>\n",
              "      <td>62812.09301</td>\n",
              "      <td>11609.380910</td>\n",
              "      <td>238961.2505</td>\n",
              "      <td>35321.45877</td>\n",
              "    </tr>\n",
              "    <tr>\n",
              "      <th>1</th>\n",
              "      <td>Harlan Barnes</td>\n",
              "      <td>eu.dolor@diam.co.uk</td>\n",
              "      <td>USA</td>\n",
              "      <td>0</td>\n",
              "      <td>41</td>\n",
              "      <td>66646.89292</td>\n",
              "      <td>9572.957136</td>\n",
              "      <td>530973.9078</td>\n",
              "      <td>45115.52566</td>\n",
              "    </tr>\n",
              "    <tr>\n",
              "      <th>2</th>\n",
              "      <td>Naomi Rodriquez</td>\n",
              "      <td>vulputate.mauris.sagittis@ametconsectetueradip...</td>\n",
              "      <td>USA</td>\n",
              "      <td>1</td>\n",
              "      <td>43</td>\n",
              "      <td>53798.55112</td>\n",
              "      <td>11160.355060</td>\n",
              "      <td>638467.1773</td>\n",
              "      <td>42925.70921</td>\n",
              "    </tr>\n",
              "    <tr>\n",
              "      <th>3</th>\n",
              "      <td>Jade Cunningham</td>\n",
              "      <td>malesuada@dignissim.com</td>\n",
              "      <td>USA</td>\n",
              "      <td>1</td>\n",
              "      <td>58</td>\n",
              "      <td>79370.03798</td>\n",
              "      <td>14426.164850</td>\n",
              "      <td>548599.0524</td>\n",
              "      <td>67422.36313</td>\n",
              "    </tr>\n",
              "    <tr>\n",
              "      <th>4</th>\n",
              "      <td>Cedric Leach</td>\n",
              "      <td>felis.ullamcorper.viverra@egetmollislectus.net</td>\n",
              "      <td>USA</td>\n",
              "      <td>1</td>\n",
              "      <td>57</td>\n",
              "      <td>59729.15130</td>\n",
              "      <td>5358.712177</td>\n",
              "      <td>560304.0671</td>\n",
              "      <td>55915.46248</td>\n",
              "    </tr>\n",
              "  </tbody>\n",
              "</table>\n",
              "</div>\n",
              "      <button class=\"colab-df-convert\" onclick=\"convertToInteractive('df-9f408106-6937-46ad-92c5-2353ea20b7d4')\"\n",
              "              title=\"Convert this dataframe to an interactive table.\"\n",
              "              style=\"display:none;\">\n",
              "        \n",
              "  <svg xmlns=\"http://www.w3.org/2000/svg\" height=\"24px\"viewBox=\"0 0 24 24\"\n",
              "       width=\"24px\">\n",
              "    <path d=\"M0 0h24v24H0V0z\" fill=\"none\"/>\n",
              "    <path d=\"M18.56 5.44l.94 2.06.94-2.06 2.06-.94-2.06-.94-.94-2.06-.94 2.06-2.06.94zm-11 1L8.5 8.5l.94-2.06 2.06-.94-2.06-.94L8.5 2.5l-.94 2.06-2.06.94zm10 10l.94 2.06.94-2.06 2.06-.94-2.06-.94-.94-2.06-.94 2.06-2.06.94z\"/><path d=\"M17.41 7.96l-1.37-1.37c-.4-.4-.92-.59-1.43-.59-.52 0-1.04.2-1.43.59L10.3 9.45l-7.72 7.72c-.78.78-.78 2.05 0 2.83L4 21.41c.39.39.9.59 1.41.59.51 0 1.02-.2 1.41-.59l7.78-7.78 2.81-2.81c.8-.78.8-2.07 0-2.86zM5.41 20L4 18.59l7.72-7.72 1.47 1.35L5.41 20z\"/>\n",
              "  </svg>\n",
              "      </button>\n",
              "      \n",
              "  <style>\n",
              "    .colab-df-container {\n",
              "      display:flex;\n",
              "      flex-wrap:wrap;\n",
              "      gap: 12px;\n",
              "    }\n",
              "\n",
              "    .colab-df-convert {\n",
              "      background-color: #E8F0FE;\n",
              "      border: none;\n",
              "      border-radius: 50%;\n",
              "      cursor: pointer;\n",
              "      display: none;\n",
              "      fill: #1967D2;\n",
              "      height: 32px;\n",
              "      padding: 0 0 0 0;\n",
              "      width: 32px;\n",
              "    }\n",
              "\n",
              "    .colab-df-convert:hover {\n",
              "      background-color: #E2EBFA;\n",
              "      box-shadow: 0px 1px 2px rgba(60, 64, 67, 0.3), 0px 1px 3px 1px rgba(60, 64, 67, 0.15);\n",
              "      fill: #174EA6;\n",
              "    }\n",
              "\n",
              "    [theme=dark] .colab-df-convert {\n",
              "      background-color: #3B4455;\n",
              "      fill: #D2E3FC;\n",
              "    }\n",
              "\n",
              "    [theme=dark] .colab-df-convert:hover {\n",
              "      background-color: #434B5C;\n",
              "      box-shadow: 0px 1px 3px 1px rgba(0, 0, 0, 0.15);\n",
              "      filter: drop-shadow(0px 1px 2px rgba(0, 0, 0, 0.3));\n",
              "      fill: #FFFFFF;\n",
              "    }\n",
              "  </style>\n",
              "\n",
              "      <script>\n",
              "        const buttonEl =\n",
              "          document.querySelector('#df-9f408106-6937-46ad-92c5-2353ea20b7d4 button.colab-df-convert');\n",
              "        buttonEl.style.display =\n",
              "          google.colab.kernel.accessAllowed ? 'block' : 'none';\n",
              "\n",
              "        async function convertToInteractive(key) {\n",
              "          const element = document.querySelector('#df-9f408106-6937-46ad-92c5-2353ea20b7d4');\n",
              "          const dataTable =\n",
              "            await google.colab.kernel.invokeFunction('convertToInteractive',\n",
              "                                                     [key], {});\n",
              "          if (!dataTable) return;\n",
              "\n",
              "          const docLinkHtml = 'Like what you see? Visit the ' +\n",
              "            '<a target=\"_blank\" href=https://colab.research.google.com/notebooks/data_table.ipynb>data table notebook</a>'\n",
              "            + ' to learn more about interactive tables.';\n",
              "          element.innerHTML = '';\n",
              "          dataTable['output_type'] = 'display_data';\n",
              "          await google.colab.output.renderOutput(dataTable, element);\n",
              "          const docLink = document.createElement('div');\n",
              "          docLink.innerHTML = docLinkHtml;\n",
              "          element.appendChild(docLink);\n",
              "        }\n",
              "      </script>\n",
              "    </div>\n",
              "  </div>\n",
              "  "
            ],
            "text/plain": [
              "     Customer Name  ... Car Purchase Amount\n",
              "0    Martina Avila  ...         35321.45877\n",
              "1    Harlan Barnes  ...         45115.52566\n",
              "2  Naomi Rodriquez  ...         42925.70921\n",
              "3  Jade Cunningham  ...         67422.36313\n",
              "4     Cedric Leach  ...         55915.46248\n",
              "\n",
              "[5 rows x 9 columns]"
            ]
          },
          "metadata": {},
          "execution_count": 97
        }
      ]
    },
    {
      "cell_type": "code",
      "source": [
        "data.info()"
      ],
      "metadata": {
        "colab": {
          "base_uri": "https://localhost:8080/"
        },
        "id": "sKxuT6WSRpk_",
        "outputId": "74f062d3-018a-45b9-c5a8-79a52e2a5a4a"
      },
      "execution_count": 98,
      "outputs": [
        {
          "output_type": "stream",
          "name": "stdout",
          "text": [
            "<class 'pandas.core.frame.DataFrame'>\n",
            "RangeIndex: 500 entries, 0 to 499\n",
            "Data columns (total 9 columns):\n",
            " #   Column               Non-Null Count  Dtype  \n",
            "---  ------               --------------  -----  \n",
            " 0   Customer Name        500 non-null    object \n",
            " 1   Customer e-mail      500 non-null    object \n",
            " 2   Country              500 non-null    object \n",
            " 3   Gender               500 non-null    int64  \n",
            " 4   Age                  500 non-null    int64  \n",
            " 5   Annual Salary        500 non-null    float64\n",
            " 6   Credit Card Debt     500 non-null    float64\n",
            " 7   Net Worth            500 non-null    float64\n",
            " 8   Car Purchase Amount  500 non-null    float64\n",
            "dtypes: float64(4), int64(2), object(3)\n",
            "memory usage: 35.3+ KB\n"
          ]
        }
      ]
    },
    {
      "cell_type": "code",
      "source": [
        "data.shape"
      ],
      "metadata": {
        "colab": {
          "base_uri": "https://localhost:8080/"
        },
        "id": "iTP0tJ2VRy7A",
        "outputId": "7fd18550-35b3-4dc6-a45d-fd87c622885e"
      },
      "execution_count": 99,
      "outputs": [
        {
          "output_type": "execute_result",
          "data": {
            "text/plain": [
              "(500, 9)"
            ]
          },
          "metadata": {},
          "execution_count": 99
        }
      ]
    },
    {
      "cell_type": "markdown",
      "source": [
        "# Exploratory Data Analysis"
      ],
      "metadata": {
        "id": "cNUAN77gSj7t"
      }
    },
    {
      "cell_type": "code",
      "source": [
        "# Number of cases with NaN\n",
        "data.isnull().sum()"
      ],
      "metadata": {
        "colab": {
          "base_uri": "https://localhost:8080/"
        },
        "id": "c62MJYToWj3k",
        "outputId": "d137c26a-49e4-42e4-f374-b4d5685914ad"
      },
      "execution_count": 100,
      "outputs": [
        {
          "output_type": "execute_result",
          "data": {
            "text/plain": [
              "Customer Name          0\n",
              "Customer e-mail        0\n",
              "Country                0\n",
              "Gender                 0\n",
              "Age                    0\n",
              "Annual Salary          0\n",
              "Credit Card Debt       0\n",
              "Net Worth              0\n",
              "Car Purchase Amount    0\n",
              "dtype: int64"
            ]
          },
          "metadata": {},
          "execution_count": 100
        }
      ]
    },
    {
      "cell_type": "code",
      "source": [
        "Country = data['Country'].unique()\n",
        "print(Country)"
      ],
      "metadata": {
        "colab": {
          "base_uri": "https://localhost:8080/"
        },
        "id": "qK62xeHVR1o5",
        "outputId": "66801d8e-7092-41ca-b646-936eaeda3293"
      },
      "execution_count": 101,
      "outputs": [
        {
          "output_type": "stream",
          "name": "stdout",
          "text": [
            "['USA']\n"
          ]
        }
      ]
    },
    {
      "cell_type": "markdown",
      "source": [
        "**Pada dataset ini, hanya USA sebagai negara yang terdapat dalam kolom \"Country\"**"
      ],
      "metadata": {
        "id": "I09s4AdJSnnK"
      }
    },
    {
      "cell_type": "code",
      "source": [
        "df = data.drop(['Customer Name','Customer e-mail','Country'], axis=1)\n",
        "df.head()"
      ],
      "metadata": {
        "colab": {
          "base_uri": "https://localhost:8080/",
          "height": 206
        },
        "id": "9N9MjR61SbpG",
        "outputId": "c72162b7-592b-4c1c-e6fa-4912e96d10c5"
      },
      "execution_count": 102,
      "outputs": [
        {
          "output_type": "execute_result",
          "data": {
            "text/html": [
              "\n",
              "  <div id=\"df-0490a302-844f-4a63-807d-8e9cb250f182\">\n",
              "    <div class=\"colab-df-container\">\n",
              "      <div>\n",
              "<style scoped>\n",
              "    .dataframe tbody tr th:only-of-type {\n",
              "        vertical-align: middle;\n",
              "    }\n",
              "\n",
              "    .dataframe tbody tr th {\n",
              "        vertical-align: top;\n",
              "    }\n",
              "\n",
              "    .dataframe thead th {\n",
              "        text-align: right;\n",
              "    }\n",
              "</style>\n",
              "<table border=\"1\" class=\"dataframe\">\n",
              "  <thead>\n",
              "    <tr style=\"text-align: right;\">\n",
              "      <th></th>\n",
              "      <th>Gender</th>\n",
              "      <th>Age</th>\n",
              "      <th>Annual Salary</th>\n",
              "      <th>Credit Card Debt</th>\n",
              "      <th>Net Worth</th>\n",
              "      <th>Car Purchase Amount</th>\n",
              "    </tr>\n",
              "  </thead>\n",
              "  <tbody>\n",
              "    <tr>\n",
              "      <th>0</th>\n",
              "      <td>0</td>\n",
              "      <td>42</td>\n",
              "      <td>62812.09301</td>\n",
              "      <td>11609.380910</td>\n",
              "      <td>238961.2505</td>\n",
              "      <td>35321.45877</td>\n",
              "    </tr>\n",
              "    <tr>\n",
              "      <th>1</th>\n",
              "      <td>0</td>\n",
              "      <td>41</td>\n",
              "      <td>66646.89292</td>\n",
              "      <td>9572.957136</td>\n",
              "      <td>530973.9078</td>\n",
              "      <td>45115.52566</td>\n",
              "    </tr>\n",
              "    <tr>\n",
              "      <th>2</th>\n",
              "      <td>1</td>\n",
              "      <td>43</td>\n",
              "      <td>53798.55112</td>\n",
              "      <td>11160.355060</td>\n",
              "      <td>638467.1773</td>\n",
              "      <td>42925.70921</td>\n",
              "    </tr>\n",
              "    <tr>\n",
              "      <th>3</th>\n",
              "      <td>1</td>\n",
              "      <td>58</td>\n",
              "      <td>79370.03798</td>\n",
              "      <td>14426.164850</td>\n",
              "      <td>548599.0524</td>\n",
              "      <td>67422.36313</td>\n",
              "    </tr>\n",
              "    <tr>\n",
              "      <th>4</th>\n",
              "      <td>1</td>\n",
              "      <td>57</td>\n",
              "      <td>59729.15130</td>\n",
              "      <td>5358.712177</td>\n",
              "      <td>560304.0671</td>\n",
              "      <td>55915.46248</td>\n",
              "    </tr>\n",
              "  </tbody>\n",
              "</table>\n",
              "</div>\n",
              "      <button class=\"colab-df-convert\" onclick=\"convertToInteractive('df-0490a302-844f-4a63-807d-8e9cb250f182')\"\n",
              "              title=\"Convert this dataframe to an interactive table.\"\n",
              "              style=\"display:none;\">\n",
              "        \n",
              "  <svg xmlns=\"http://www.w3.org/2000/svg\" height=\"24px\"viewBox=\"0 0 24 24\"\n",
              "       width=\"24px\">\n",
              "    <path d=\"M0 0h24v24H0V0z\" fill=\"none\"/>\n",
              "    <path d=\"M18.56 5.44l.94 2.06.94-2.06 2.06-.94-2.06-.94-.94-2.06-.94 2.06-2.06.94zm-11 1L8.5 8.5l.94-2.06 2.06-.94-2.06-.94L8.5 2.5l-.94 2.06-2.06.94zm10 10l.94 2.06.94-2.06 2.06-.94-2.06-.94-.94-2.06-.94 2.06-2.06.94z\"/><path d=\"M17.41 7.96l-1.37-1.37c-.4-.4-.92-.59-1.43-.59-.52 0-1.04.2-1.43.59L10.3 9.45l-7.72 7.72c-.78.78-.78 2.05 0 2.83L4 21.41c.39.39.9.59 1.41.59.51 0 1.02-.2 1.41-.59l7.78-7.78 2.81-2.81c.8-.78.8-2.07 0-2.86zM5.41 20L4 18.59l7.72-7.72 1.47 1.35L5.41 20z\"/>\n",
              "  </svg>\n",
              "      </button>\n",
              "      \n",
              "  <style>\n",
              "    .colab-df-container {\n",
              "      display:flex;\n",
              "      flex-wrap:wrap;\n",
              "      gap: 12px;\n",
              "    }\n",
              "\n",
              "    .colab-df-convert {\n",
              "      background-color: #E8F0FE;\n",
              "      border: none;\n",
              "      border-radius: 50%;\n",
              "      cursor: pointer;\n",
              "      display: none;\n",
              "      fill: #1967D2;\n",
              "      height: 32px;\n",
              "      padding: 0 0 0 0;\n",
              "      width: 32px;\n",
              "    }\n",
              "\n",
              "    .colab-df-convert:hover {\n",
              "      background-color: #E2EBFA;\n",
              "      box-shadow: 0px 1px 2px rgba(60, 64, 67, 0.3), 0px 1px 3px 1px rgba(60, 64, 67, 0.15);\n",
              "      fill: #174EA6;\n",
              "    }\n",
              "\n",
              "    [theme=dark] .colab-df-convert {\n",
              "      background-color: #3B4455;\n",
              "      fill: #D2E3FC;\n",
              "    }\n",
              "\n",
              "    [theme=dark] .colab-df-convert:hover {\n",
              "      background-color: #434B5C;\n",
              "      box-shadow: 0px 1px 3px 1px rgba(0, 0, 0, 0.15);\n",
              "      filter: drop-shadow(0px 1px 2px rgba(0, 0, 0, 0.3));\n",
              "      fill: #FFFFFF;\n",
              "    }\n",
              "  </style>\n",
              "\n",
              "      <script>\n",
              "        const buttonEl =\n",
              "          document.querySelector('#df-0490a302-844f-4a63-807d-8e9cb250f182 button.colab-df-convert');\n",
              "        buttonEl.style.display =\n",
              "          google.colab.kernel.accessAllowed ? 'block' : 'none';\n",
              "\n",
              "        async function convertToInteractive(key) {\n",
              "          const element = document.querySelector('#df-0490a302-844f-4a63-807d-8e9cb250f182');\n",
              "          const dataTable =\n",
              "            await google.colab.kernel.invokeFunction('convertToInteractive',\n",
              "                                                     [key], {});\n",
              "          if (!dataTable) return;\n",
              "\n",
              "          const docLinkHtml = 'Like what you see? Visit the ' +\n",
              "            '<a target=\"_blank\" href=https://colab.research.google.com/notebooks/data_table.ipynb>data table notebook</a>'\n",
              "            + ' to learn more about interactive tables.';\n",
              "          element.innerHTML = '';\n",
              "          dataTable['output_type'] = 'display_data';\n",
              "          await google.colab.output.renderOutput(dataTable, element);\n",
              "          const docLink = document.createElement('div');\n",
              "          docLink.innerHTML = docLinkHtml;\n",
              "          element.appendChild(docLink);\n",
              "        }\n",
              "      </script>\n",
              "    </div>\n",
              "  </div>\n",
              "  "
            ],
            "text/plain": [
              "   Gender  Age  ...    Net Worth  Car Purchase Amount\n",
              "0       0   42  ...  238961.2505          35321.45877\n",
              "1       0   41  ...  530973.9078          45115.52566\n",
              "2       1   43  ...  638467.1773          42925.70921\n",
              "3       1   58  ...  548599.0524          67422.36313\n",
              "4       1   57  ...  560304.0671          55915.46248\n",
              "\n",
              "[5 rows x 6 columns]"
            ]
          },
          "metadata": {},
          "execution_count": 102
        }
      ]
    },
    {
      "cell_type": "code",
      "source": [
        "df.describe().T"
      ],
      "metadata": {
        "colab": {
          "base_uri": "https://localhost:8080/",
          "height": 238
        },
        "id": "OxMKv5SMVa3L",
        "outputId": "c34d69ea-8b3a-4abc-ec16-a897ffff0fab"
      },
      "execution_count": 103,
      "outputs": [
        {
          "output_type": "execute_result",
          "data": {
            "text/html": [
              "\n",
              "  <div id=\"df-ee02b252-59f1-477f-8eaf-310f8e9a33e4\">\n",
              "    <div class=\"colab-df-container\">\n",
              "      <div>\n",
              "<style scoped>\n",
              "    .dataframe tbody tr th:only-of-type {\n",
              "        vertical-align: middle;\n",
              "    }\n",
              "\n",
              "    .dataframe tbody tr th {\n",
              "        vertical-align: top;\n",
              "    }\n",
              "\n",
              "    .dataframe thead th {\n",
              "        text-align: right;\n",
              "    }\n",
              "</style>\n",
              "<table border=\"1\" class=\"dataframe\">\n",
              "  <thead>\n",
              "    <tr style=\"text-align: right;\">\n",
              "      <th></th>\n",
              "      <th>count</th>\n",
              "      <th>mean</th>\n",
              "      <th>std</th>\n",
              "      <th>min</th>\n",
              "      <th>25%</th>\n",
              "      <th>50%</th>\n",
              "      <th>75%</th>\n",
              "      <th>max</th>\n",
              "    </tr>\n",
              "  </thead>\n",
              "  <tbody>\n",
              "    <tr>\n",
              "      <th>Gender</th>\n",
              "      <td>500.0</td>\n",
              "      <td>0.506000</td>\n",
              "      <td>0.500465</td>\n",
              "      <td>0.0</td>\n",
              "      <td>0.000000</td>\n",
              "      <td>1.000000</td>\n",
              "      <td>1.000000</td>\n",
              "      <td>1.0</td>\n",
              "    </tr>\n",
              "    <tr>\n",
              "      <th>Age</th>\n",
              "      <td>500.0</td>\n",
              "      <td>46.224000</td>\n",
              "      <td>7.990339</td>\n",
              "      <td>20.0</td>\n",
              "      <td>41.000000</td>\n",
              "      <td>46.000000</td>\n",
              "      <td>52.000000</td>\n",
              "      <td>70.0</td>\n",
              "    </tr>\n",
              "    <tr>\n",
              "      <th>Annual Salary</th>\n",
              "      <td>500.0</td>\n",
              "      <td>62127.239608</td>\n",
              "      <td>11703.378228</td>\n",
              "      <td>20000.0</td>\n",
              "      <td>54391.977195</td>\n",
              "      <td>62915.497035</td>\n",
              "      <td>70117.862005</td>\n",
              "      <td>100000.0</td>\n",
              "    </tr>\n",
              "    <tr>\n",
              "      <th>Credit Card Debt</th>\n",
              "      <td>500.0</td>\n",
              "      <td>9607.645049</td>\n",
              "      <td>3489.187973</td>\n",
              "      <td>100.0</td>\n",
              "      <td>7397.515792</td>\n",
              "      <td>9655.035568</td>\n",
              "      <td>11798.867487</td>\n",
              "      <td>20000.0</td>\n",
              "    </tr>\n",
              "    <tr>\n",
              "      <th>Net Worth</th>\n",
              "      <td>500.0</td>\n",
              "      <td>431475.713625</td>\n",
              "      <td>173536.756340</td>\n",
              "      <td>20000.0</td>\n",
              "      <td>299824.195900</td>\n",
              "      <td>426750.120650</td>\n",
              "      <td>557324.478725</td>\n",
              "      <td>1000000.0</td>\n",
              "    </tr>\n",
              "    <tr>\n",
              "      <th>Car Purchase Amount</th>\n",
              "      <td>500.0</td>\n",
              "      <td>44209.799218</td>\n",
              "      <td>10773.178744</td>\n",
              "      <td>9000.0</td>\n",
              "      <td>37629.896040</td>\n",
              "      <td>43997.783390</td>\n",
              "      <td>51254.709517</td>\n",
              "      <td>80000.0</td>\n",
              "    </tr>\n",
              "  </tbody>\n",
              "</table>\n",
              "</div>\n",
              "      <button class=\"colab-df-convert\" onclick=\"convertToInteractive('df-ee02b252-59f1-477f-8eaf-310f8e9a33e4')\"\n",
              "              title=\"Convert this dataframe to an interactive table.\"\n",
              "              style=\"display:none;\">\n",
              "        \n",
              "  <svg xmlns=\"http://www.w3.org/2000/svg\" height=\"24px\"viewBox=\"0 0 24 24\"\n",
              "       width=\"24px\">\n",
              "    <path d=\"M0 0h24v24H0V0z\" fill=\"none\"/>\n",
              "    <path d=\"M18.56 5.44l.94 2.06.94-2.06 2.06-.94-2.06-.94-.94-2.06-.94 2.06-2.06.94zm-11 1L8.5 8.5l.94-2.06 2.06-.94-2.06-.94L8.5 2.5l-.94 2.06-2.06.94zm10 10l.94 2.06.94-2.06 2.06-.94-2.06-.94-.94-2.06-.94 2.06-2.06.94z\"/><path d=\"M17.41 7.96l-1.37-1.37c-.4-.4-.92-.59-1.43-.59-.52 0-1.04.2-1.43.59L10.3 9.45l-7.72 7.72c-.78.78-.78 2.05 0 2.83L4 21.41c.39.39.9.59 1.41.59.51 0 1.02-.2 1.41-.59l7.78-7.78 2.81-2.81c.8-.78.8-2.07 0-2.86zM5.41 20L4 18.59l7.72-7.72 1.47 1.35L5.41 20z\"/>\n",
              "  </svg>\n",
              "      </button>\n",
              "      \n",
              "  <style>\n",
              "    .colab-df-container {\n",
              "      display:flex;\n",
              "      flex-wrap:wrap;\n",
              "      gap: 12px;\n",
              "    }\n",
              "\n",
              "    .colab-df-convert {\n",
              "      background-color: #E8F0FE;\n",
              "      border: none;\n",
              "      border-radius: 50%;\n",
              "      cursor: pointer;\n",
              "      display: none;\n",
              "      fill: #1967D2;\n",
              "      height: 32px;\n",
              "      padding: 0 0 0 0;\n",
              "      width: 32px;\n",
              "    }\n",
              "\n",
              "    .colab-df-convert:hover {\n",
              "      background-color: #E2EBFA;\n",
              "      box-shadow: 0px 1px 2px rgba(60, 64, 67, 0.3), 0px 1px 3px 1px rgba(60, 64, 67, 0.15);\n",
              "      fill: #174EA6;\n",
              "    }\n",
              "\n",
              "    [theme=dark] .colab-df-convert {\n",
              "      background-color: #3B4455;\n",
              "      fill: #D2E3FC;\n",
              "    }\n",
              "\n",
              "    [theme=dark] .colab-df-convert:hover {\n",
              "      background-color: #434B5C;\n",
              "      box-shadow: 0px 1px 3px 1px rgba(0, 0, 0, 0.15);\n",
              "      filter: drop-shadow(0px 1px 2px rgba(0, 0, 0, 0.3));\n",
              "      fill: #FFFFFF;\n",
              "    }\n",
              "  </style>\n",
              "\n",
              "      <script>\n",
              "        const buttonEl =\n",
              "          document.querySelector('#df-ee02b252-59f1-477f-8eaf-310f8e9a33e4 button.colab-df-convert');\n",
              "        buttonEl.style.display =\n",
              "          google.colab.kernel.accessAllowed ? 'block' : 'none';\n",
              "\n",
              "        async function convertToInteractive(key) {\n",
              "          const element = document.querySelector('#df-ee02b252-59f1-477f-8eaf-310f8e9a33e4');\n",
              "          const dataTable =\n",
              "            await google.colab.kernel.invokeFunction('convertToInteractive',\n",
              "                                                     [key], {});\n",
              "          if (!dataTable) return;\n",
              "\n",
              "          const docLinkHtml = 'Like what you see? Visit the ' +\n",
              "            '<a target=\"_blank\" href=https://colab.research.google.com/notebooks/data_table.ipynb>data table notebook</a>'\n",
              "            + ' to learn more about interactive tables.';\n",
              "          element.innerHTML = '';\n",
              "          dataTable['output_type'] = 'display_data';\n",
              "          await google.colab.output.renderOutput(dataTable, element);\n",
              "          const docLink = document.createElement('div');\n",
              "          docLink.innerHTML = docLinkHtml;\n",
              "          element.appendChild(docLink);\n",
              "        }\n",
              "      </script>\n",
              "    </div>\n",
              "  </div>\n",
              "  "
            ],
            "text/plain": [
              "                     count           mean  ...            75%        max\n",
              "Gender               500.0       0.506000  ...       1.000000        1.0\n",
              "Age                  500.0      46.224000  ...      52.000000       70.0\n",
              "Annual Salary        500.0   62127.239608  ...   70117.862005   100000.0\n",
              "Credit Card Debt     500.0    9607.645049  ...   11798.867487    20000.0\n",
              "Net Worth            500.0  431475.713625  ...  557324.478725  1000000.0\n",
              "Car Purchase Amount  500.0   44209.799218  ...   51254.709517    80000.0\n",
              "\n",
              "[6 rows x 8 columns]"
            ]
          },
          "metadata": {},
          "execution_count": 103
        }
      ]
    },
    {
      "cell_type": "markdown",
      "source": [
        "**Mari kita lihat distribusi datanya!**"
      ],
      "metadata": {
        "id": "cmxLytq3XIyI"
      }
    },
    {
      "cell_type": "code",
      "source": [
        "# Distribution of Gender\n",
        "# Value 1 : male\n",
        "# Value 0 : female\n",
        "\n",
        "gender = df['Gender'].value_counts()\n",
        "label = gender.index\n",
        "\n",
        "plt.pie(gender, labels=label, autopct='%.2f%%', colors=['#B0E2FF','#FFAEB9'])\n",
        "plt.title('Gender')\n",
        "plt.show()\n",
        "print(gender)"
      ],
      "metadata": {
        "colab": {
          "base_uri": "https://localhost:8080/",
          "height": 316
        },
        "id": "1Rwf1LAqVetf",
        "outputId": "364dc9ba-84db-47d9-b659-a134223b1913"
      },
      "execution_count": 104,
      "outputs": [
        {
          "output_type": "display_data",
          "data": {
            "image/png": "[encoded data removed]",
            "text/plain": [
              "<Figure size 432x288 with 1 Axes>"
            ]
          },
          "metadata": {}
        },
        {
          "output_type": "stream",
          "name": "stdout",
          "text": [
            "1    253\n",
            "0    247\n",
            "Name: Gender, dtype: int64\n"
          ]
        }
      ]
    },
    {
      "cell_type": "markdown",
      "source": [
        "Berdasarkan gambar distribusi diatas menunjukkan bahwa data distribusi pada kolom \"Gender\" adalah seimbang"
      ],
      "metadata": {
        "id": "rN_Zoe6CZVQE"
      }
    },
    {
      "cell_type": "code",
      "source": [
        "# Distribution of Age\n",
        "sns.displot(data=df, x='Age', kde =True)\n",
        "\n",
        "average = df['Age'].mean()\n",
        "median = df['Age'].median()\n",
        "mode = df['Age'].mode()\n",
        "std = df['Age'].std()\n",
        "\n",
        "plt.axvline(average, color='r', linestyle='solid', linewidth=3, label='Mean')\n",
        "plt.axvline(median, color='y', linestyle='dotted', linewidth=3, label='Median')\n",
        "plt.axvline(mode[0], color='purple', linestyle='dashed', linewidth=3, label='Mode')\n",
        "\n",
        "plt.show()\n",
        "print('Average : ', average)\n",
        "print('Standard deviation : ', std)\n",
        "print('Median : ', median)\n",
        "print('Mode : ', int(mode))"
      ],
      "metadata": {
        "colab": {
          "base_uri": "https://localhost:8080/",
          "height": 438
        },
        "id": "37_eUxnMYZXq",
        "outputId": "622e4e1f-5058-4f00-b65a-8b2baa116f90"
      },
      "execution_count": 105,
      "outputs": [
        {
          "output_type": "display_data",
          "data": {
            "image/png": "[encoded data removed]",
            "text/plain": [
              "<Figure size 360x360 with 1 Axes>"
            ]
          },
          "metadata": {
            "needs_background": "light"
          }
        },
        {
          "output_type": "stream",
          "name": "stdout",
          "text": [
            "Average :  46.224\n",
            "Standard deviation :  7.990338855772022\n",
            "Median :  46.0\n",
            "Mode :  43\n"
          ]
        }
      ]
    },
    {
      "cell_type": "markdown",
      "source": [
        "Berdasarkan gambar distribusi data diatas terlihat bahwa data pada kolom \"Age\" bisa dikatakan terdistribusi secara normal, hal itu dikarenakan nilai rata-rata sama dengan nilai median."
      ],
      "metadata": {
        "id": "TJJW1dJubNML"
      }
    },
    {
      "cell_type": "markdown",
      "source": [
        "**Mari lihat korelasi data melalui Heatmap**"
      ],
      "metadata": {
        "id": "Dije2kWSdgak"
      }
    },
    {
      "cell_type": "code",
      "source": [
        "# correlation\n",
        "\n",
        "corr = df.corr()\n",
        "\n",
        "plt.figure(figsize=(10,8))\n",
        "palette = sns.diverging_palette(20, 220, n=256)\n",
        "sns.heatmap(corr, annot=True, fmt=\".2f\", cmap=palette, center=0,\n",
        "            square=True, linewidths=.5, cbar_kws={\"shrink\": .5})\n",
        "plt.title(\"Correlation Matrix\",size=15, weight='bold')"
      ],
      "metadata": {
        "colab": {
          "base_uri": "https://localhost:8080/",
          "height": 616
        },
        "id": "HL1eRDuaaoxa",
        "outputId": "24ee6317-4147-43c8-c6e3-9b27a077ec0d"
      },
      "execution_count": 106,
      "outputs": [
        {
          "output_type": "execute_result",
          "data": {
            "text/plain": [
              "Text(0.5, 1.0, 'Correlation Matrix')"
            ]
          },
          "metadata": {},
          "execution_count": 106
        },
        {
          "output_type": "display_data",
          "data": {
            "image/png": "[encoded data removed]",
            "text/plain": [
              "<Figure size 720x576 with 2 Axes>"
            ]
          },
          "metadata": {
            "needs_background": "light"
          }
        }
      ]
    },
    {
      "cell_type": "markdown",
      "source": [
        "Berdasarkan Heatmap diatas menunjukkan adanya hubungan (correlation) antara satu variabel independen dengan variabel dependennya. \n",
        "\n",
        "Terdapat Hubungan korelasi yang moderat antara \"Net Worth\" dengan \"Car Purchase Amount\",\n",
        "\n",
        "Kemudian pada variabel \"Age\" dan \"Annual Salary\" memiliki hubungan korelasi yang sedang dengan variabel dependennya, yaitu \"Car Purchase Amount\""
      ],
      "metadata": {
        "id": "uExlbi-lel1n"
      }
    },
    {
      "cell_type": "markdown",
      "source": [
        "# Regression Model"
      ],
      "metadata": {
        "id": "wkM7S4v5gHDr"
      }
    },
    {
      "cell_type": "code",
      "source": [
        "from sklearn.linear_model import LinearRegression\n",
        "from sklearn.model_selection import train_test_split\n",
        "from sklearn.metrics import mean_absolute_error\n",
        "from sklearn.metrics import mean_squared_error\n",
        "\n",
        "X = df[['Gender','Age','Annual Salary','Credit Card Debt','Net Worth']]\n",
        "\n",
        "y = df['Car Purchase Amount']\n",
        "\n",
        "X_train, X_test, y_train, y_test = train_test_split(X,y, test_size=0.2, random_state = 12)"
      ],
      "metadata": {
        "id": "pVOE85n7dwUB"
      },
      "execution_count": 107,
      "outputs": []
    },
    {
      "cell_type": "code",
      "source": [
        "# Call model\n",
        "linreg = LinearRegression().fit(X_train, y_train)\n",
        "\n",
        "print(linreg.coef_)\n",
        "print(linreg.intercept_)"
      ],
      "metadata": {
        "colab": {
          "base_uri": "https://localhost:8080/"
        },
        "id": "k0w3ed5QheuC",
        "outputId": "3ee8cd72-5c96-48ba-a990-24b7d064cfab"
      },
      "execution_count": 108,
      "outputs": [
        {
          "output_type": "stream",
          "name": "stdout",
          "text": [
            "[7.82890037e+00 8.39411542e+02 5.61280781e-01 6.20316888e-03\n",
            " 2.89561196e-02]\n",
            "-42021.45153379724\n"
          ]
        }
      ]
    },
    {
      "cell_type": "code",
      "source": [
        "y_train_pred = linreg.predict(X_train)\n",
        "y_test_pred = linreg.predict(X_test)"
      ],
      "metadata": {
        "id": "wiLqs6QFh5la"
      },
      "execution_count": 109,
      "outputs": []
    },
    {
      "cell_type": "code",
      "source": [
        "print(\"MAE Training : \", mean_absolute_error(y_train,y_train_pred))\n",
        "print(\"MAE Testing : \", mean_absolute_error(y_test,y_test_pred))\n",
        "\n",
        "print(\"MSE Training : \", mean_squared_error(y_train,y_train_pred))\n",
        "print(\"MSE Testing : \", mean_squared_error(y_test,y_test_pred))"
      ],
      "metadata": {
        "colab": {
          "base_uri": "https://localhost:8080/"
        },
        "id": "9VL_kmZhiIML",
        "outputId": "1ef52c45-ba9c-4d80-c1e2-8d850f2c8ad2"
      },
      "execution_count": 110,
      "outputs": [
        {
          "output_type": "stream",
          "name": "stdout",
          "text": [
            "MAE Training :  209.7841809521243\n",
            "MAE Testing :  197.34015529704385\n",
            "MSE Training :  59248.646048996976\n",
            "MSE Testing :  52611.08806381495\n"
          ]
        }
      ]
    },
    {
      "cell_type": "markdown",
      "source": [
        "Model Analisa diatas adalah model untuk Multiple Independent Variables, berikut merupakan analisa dengan menggunakan Single Independent Variable hanya untuk kolom yang memiliki hubungan korelasi moderat dan sedang (Age, Net Worth, dan Annual Salary)"
      ],
      "metadata": {
        "id": "i8hvZ4Awknw_"
      }
    },
    {
      "cell_type": "code",
      "source": [
        "# Linear Regression Age VS Car Purchase Amount\n",
        "\n",
        "X = df[['Age']]\n",
        "y = df['Car Purchase Amount']\n",
        "\n",
        "X_train, X_test, y_train, y_test = train_test_split(X,y, test_size=0.2, random_state = 12)\n",
        "\n",
        "# Call model\n",
        "linreg = LinearRegression().fit(X_train, y_train)\n",
        "\n",
        "print(linreg.coef_)\n",
        "print(linreg.intercept_)"
      ],
      "metadata": {
        "colab": {
          "base_uri": "https://localhost:8080/"
        },
        "id": "sD-05YpEjQgw",
        "outputId": "ea088c29-9e11-404f-a210-75f5f168fc58"
      },
      "execution_count": 111,
      "outputs": [
        {
          "output_type": "stream",
          "name": "stdout",
          "text": [
            "[808.41071871]\n",
            "7108.946056603068\n"
          ]
        }
      ]
    },
    {
      "cell_type": "markdown",
      "source": [
        "Rumus Persamaan Regresi Linear yang diperoleh adalah\n",
        "\n",
        "**Y = 7108.9460 + 808.4107X**"
      ],
      "metadata": {
        "id": "NwnFChWwq4IO"
      }
    },
    {
      "cell_type": "code",
      "source": [
        "y_train_pred = linreg.predict(X_train)\n",
        "y_test_pred = linreg.predict(X_test)"
      ],
      "metadata": {
        "id": "-GGUKl0SlwRM"
      },
      "execution_count": 112,
      "outputs": []
    },
    {
      "cell_type": "code",
      "source": [
        "plt.scatter(X_train, y_train, color = 'red')\n",
        "plt.plot(X_train, y_train_pred, color = 'blue')\n",
        "plt.title('Age VS Car Purchase Amount')\n",
        "plt.xlabel('Age')\n",
        "plt.ylabel('Car Purchase Amount')\n",
        "plt.show()"
      ],
      "metadata": {
        "colab": {
          "base_uri": "https://localhost:8080/",
          "height": 295
        },
        "id": "-bPLbEDkl_kD",
        "outputId": "e87397b4-747e-4eaa-902f-1e3995ac76f0"
      },
      "execution_count": 113,
      "outputs": [
        {
          "output_type": "display_data",
          "data": {
            "image/png": "[encoded data removed]",
            "text/plain": [
              "<Figure size 432x288 with 1 Axes>"
            ]
          },
          "metadata": {
            "needs_background": "light"
          }
        }
      ]
    },
    {
      "cell_type": "code",
      "source": [
        "# Linear Regression Net Worth VS Car Purchase Amount\n",
        "\n",
        "X = df[['Net Worth']]\n",
        "y = df['Car Purchase Amount']\n",
        "\n",
        "X_train, X_test, y_train, y_test = train_test_split(X,y, test_size=0.2, random_state = 12)\n",
        "\n",
        "# Call model\n",
        "linreg = LinearRegression().fit(X_train, y_train)\n",
        "\n",
        "print(linreg.coef_)\n",
        "print(linreg.intercept_)"
      ],
      "metadata": {
        "colab": {
          "base_uri": "https://localhost:8080/"
        },
        "id": "yJ2KrjKlmw0_",
        "outputId": "4ebcfb3f-8d3e-4bc2-c40f-13ea66a40c3c"
      },
      "execution_count": 114,
      "outputs": [
        {
          "output_type": "stream",
          "name": "stdout",
          "text": [
            "[0.02883569]\n",
            "32172.72552725882\n"
          ]
        }
      ]
    },
    {
      "cell_type": "markdown",
      "source": [
        "Rumus Persamaan Regresi Linear yang diperoleh adalah\n",
        "\n",
        "**Y = 32172.7255 + 0.0288X**"
      ],
      "metadata": {
        "id": "VqNPgtOYrPaS"
      }
    },
    {
      "cell_type": "code",
      "source": [
        "y_train_pred = linreg.predict(X_train)\n",
        "y_test_pred = linreg.predict(X_test)"
      ],
      "metadata": {
        "id": "Kju3VIKjnepc"
      },
      "execution_count": 115,
      "outputs": []
    },
    {
      "cell_type": "code",
      "source": [
        "plt.scatter(X_train, y_train, color = 'red')\n",
        "plt.plot(X_train, y_train_pred, color = 'blue')\n",
        "plt.title('Net Worth VS Car Purchase Amount')\n",
        "plt.xlabel('Net Worth')\n",
        "plt.ylabel('Car Purchase Amount')\n",
        "plt.show()"
      ],
      "metadata": {
        "colab": {
          "base_uri": "https://localhost:8080/",
          "height": 295
        },
        "id": "bkl5EQeAnhQv",
        "outputId": "9da16196-9cc3-4326-d38c-ce0c2840f320"
      },
      "execution_count": 116,
      "outputs": [
        {
          "output_type": "display_data",
          "data": {
            "image/png": "[encoded data removed]",
            "text/plain": [
              "<Figure size 432x288 with 1 Axes>"
            ]
          },
          "metadata": {
            "needs_background": "light"
          }
        }
      ]
    },
    {
      "cell_type": "code",
      "source": [
        "# Linear Regression Net Worth VS Car Purchase Amount\n",
        "\n",
        "X = df[['Annual Salary']]\n",
        "y = df['Car Purchase Amount']\n",
        "\n",
        "X_train, X_test, y_train, y_test = train_test_split(X,y, test_size=0.2, random_state = 12)\n",
        "\n",
        "# Call model\n",
        "linreg = LinearRegression().fit(X_train, y_train)\n",
        "\n",
        "print(linreg.coef_)\n",
        "print(linreg.intercept_)"
      ],
      "metadata": {
        "colab": {
          "base_uri": "https://localhost:8080/"
        },
        "id": "OoxjAA5unmmc",
        "outputId": "6bc5eed6-c8b8-41b6-cc17-2bc74883ec8c"
      },
      "execution_count": 117,
      "outputs": [
        {
          "output_type": "stream",
          "name": "stdout",
          "text": [
            "[0.5293683]\n",
            "11706.512133170625\n"
          ]
        }
      ]
    },
    {
      "cell_type": "markdown",
      "source": [
        "Rumus Persamaan Regresi Linear yang diperoleh adalah\n",
        "\n",
        "**Y = 11706.5121 + 0.5293X**"
      ],
      "metadata": {
        "id": "orcYvIBZrQqy"
      }
    },
    {
      "cell_type": "code",
      "source": [
        "y_train_pred = linreg.predict(X_train)\n",
        "y_test_pred = linreg.predict(X_test)"
      ],
      "metadata": {
        "id": "oGcM2Q2qn0ND"
      },
      "execution_count": 118,
      "outputs": []
    },
    {
      "cell_type": "code",
      "source": [
        "plt.scatter(X_train, y_train, color = 'red')\n",
        "plt.plot(X_train, y_train_pred, color = 'blue')\n",
        "plt.title('Annual Salary VS Car Purchase Amount')\n",
        "plt.xlabel('Annual Salary')\n",
        "plt.ylabel('Car Purchase Amount')\n",
        "plt.show()"
      ],
      "metadata": {
        "colab": {
          "base_uri": "https://localhost:8080/",
          "height": 295
        },
        "id": "PITEmyaTn9H6",
        "outputId": "fbd0afa0-1819-435e-b337-a67c560536f6"
      },
      "execution_count": 119,
      "outputs": [
        {
          "output_type": "display_data",
          "data": {
            "image/png": "[encoded data removed]",
            "text/plain": [
              "<Figure size 432x288 with 1 Axes>"
            ]
          },
          "metadata": {
            "needs_background": "light"
          }
        }
      ]
    },
    {
      "cell_type": "markdown",
      "source": [
        "Tak berhenti dari situ mari kita lakukan analisa dengan model regresi lainnya seperti:\n",
        "\n",
        "\n",
        "*   Lasso Regression\n",
        "*   Ridge Regression\n",
        "*   Decision tree\n",
        "*   Random Forest\n",
        "\n",
        "\n",
        "\n"
      ],
      "metadata": {
        "id": "rs_uHVW1sIZA"
      }
    },
    {
      "cell_type": "code",
      "source": [
        "X = df[['Gender','Age','Annual Salary','Credit Card Debt','Net Worth']]\n",
        "\n",
        "y = df['Car Purchase Amount']\n",
        "\n",
        "X_train, X_test, y_train, y_test = train_test_split(X,y, test_size=0.2, random_state = 12)"
      ],
      "metadata": {
        "id": "UXF1v-IGvD9W"
      },
      "execution_count": 120,
      "outputs": []
    },
    {
      "cell_type": "markdown",
      "source": [
        "## Lasso Regression"
      ],
      "metadata": {
        "id": "rxBuL4VQsoTF"
      }
    },
    {
      "cell_type": "code",
      "source": [
        "from sklearn.linear_model import Lasso\n",
        "\n",
        "lasso_model = Lasso().fit(X_train, y_train)\n",
        "\n",
        "y_train_pred = lasso_model.predict(X_train)\n",
        "y_test_pred = lasso_model.predict(X_test)"
      ],
      "metadata": {
        "id": "yr9BVXBfoCRE"
      },
      "execution_count": 121,
      "outputs": []
    },
    {
      "cell_type": "code",
      "source": [
        "print(\"MAE Training : \", mean_absolute_error(y_train,y_train_pred))\n",
        "print(\"MAE Testing : \", mean_absolute_error(y_test,y_test_pred))\n",
        "\n",
        "print(\"MSE Training : \", mean_squared_error(y_train,y_train_pred))\n",
        "print(\"MSE Testing : \", mean_squared_error(y_test,y_test_pred))"
      ],
      "metadata": {
        "colab": {
          "base_uri": "https://localhost:8080/"
        },
        "id": "seipyQDUtShx",
        "outputId": "59622b60-e738-4a60-de46-f6e44159adf0"
      },
      "execution_count": 122,
      "outputs": [
        {
          "output_type": "stream",
          "name": "stdout",
          "text": [
            "MAE Training :  209.75170641620477\n",
            "MAE Testing :  197.73277922410063\n",
            "MSE Training :  59252.71169048387\n",
            "MSE Testing :  52794.91976228719\n"
          ]
        }
      ]
    },
    {
      "cell_type": "markdown",
      "source": [
        "## Ridge Regression"
      ],
      "metadata": {
        "id": "pac1StnntsP0"
      }
    },
    {
      "cell_type": "code",
      "source": [
        "from sklearn.linear_model import Ridge\n",
        "\n",
        "ridge_model = Ridge().fit(X_train, y_train)\n",
        "\n",
        "y_train_pred = ridge_model.predict(X_train)\n",
        "y_test_pred = ridge_model.predict(X_test)\n",
        "\n",
        "print(\"MAE Training : \", mean_absolute_error(y_train,y_train_pred))\n",
        "print(\"MAE Testing : \", mean_absolute_error(y_test,y_test_pred))\n",
        "\n",
        "print(\"MSE Training : \", mean_squared_error(y_train,y_train_pred))\n",
        "print(\"MSE Testing : \", mean_squared_error(y_test,y_test_pred))"
      ],
      "metadata": {
        "colab": {
          "base_uri": "https://localhost:8080/"
        },
        "id": "Rh9LVQTKtdzi",
        "outputId": "f53c0a5d-bb20-4b3f-eb09-f5fde25e31f3"
      },
      "execution_count": 123,
      "outputs": [
        {
          "output_type": "stream",
          "name": "stdout",
          "text": [
            "MAE Training :  209.79168357912633\n",
            "MAE Testing :  197.36266381799035\n",
            "MSE Training :  59248.71666842932\n",
            "MSE Testing :  52624.39066416058\n"
          ]
        }
      ]
    },
    {
      "cell_type": "markdown",
      "source": [
        "## Decision Tree"
      ],
      "metadata": {
        "id": "Xx0jwXdduEuT"
      }
    },
    {
      "cell_type": "code",
      "source": [
        "from sklearn.tree import DecisionTreeRegressor\n",
        "\n",
        "dt_regressor = DecisionTreeRegressor().fit(X_train, y_train)\n",
        "\n",
        "y_train_pred = dt_regressor.predict(X_train)\n",
        "y_test_pred = dt_regressor.predict(X_test)\n",
        "\n",
        "print(\"MAE Training : \", mean_absolute_error(y_train,y_train_pred))\n",
        "print(\"MAE Testing : \", mean_absolute_error(y_test,y_test_pred))\n",
        "\n",
        "print(\"MSE Training : \", mean_squared_error(y_train,y_train_pred))\n",
        "print(\"MSE Testing : \", mean_squared_error(y_test,y_test_pred))"
      ],
      "metadata": {
        "colab": {
          "base_uri": "https://localhost:8080/"
        },
        "id": "cArMeBctt5-N",
        "outputId": "9ae97fd5-c2f1-4caa-dc8a-f466c75e191b"
      },
      "execution_count": 124,
      "outputs": [
        {
          "output_type": "stream",
          "name": "stdout",
          "text": [
            "MAE Training :  0.0\n",
            "MAE Testing :  2942.5399299\n",
            "MSE Training :  0.0\n",
            "MSE Testing :  14197738.358061997\n"
          ]
        }
      ]
    },
    {
      "cell_type": "markdown",
      "source": [
        "## Random Forest Regression"
      ],
      "metadata": {
        "id": "DcFpjPfkudGh"
      }
    },
    {
      "cell_type": "code",
      "source": [
        "from sklearn.ensemble import RandomForestRegressor\n",
        "\n",
        "rf_regressor = RandomForestRegressor().fit(X_train, y_train)\n",
        "\n",
        "y_train_pred = rf_regressor.predict(X_train)\n",
        "y_test_pred = rf_regressor.predict(X_test)\n",
        "\n",
        "print(\"MAE Training : \", mean_absolute_error(y_train,y_train_pred))\n",
        "print(\"MAE Testing : \", mean_absolute_error(y_test,y_test_pred))\n",
        "\n",
        "print(\"MSE Training : \", mean_squared_error(y_train,y_train_pred))\n",
        "print(\"MSE Testing : \", mean_squared_error(y_test,y_test_pred))"
      ],
      "metadata": {
        "colab": {
          "base_uri": "https://localhost:8080/"
        },
        "id": "RZwOuNa4uSap",
        "outputId": "18b1d03e-7ba3-4cb4-a826-db936b76dbf2"
      },
      "execution_count": 125,
      "outputs": [
        {
          "output_type": "stream",
          "name": "stdout",
          "text": [
            "MAE Training :  657.2683873369975\n",
            "MAE Testing :  1725.4959760369984\n",
            "MSE Training :  1060707.293322922\n",
            "MSE Testing :  6813217.774822979\n"
          ]
        }
      ]
    },
    {
      "cell_type": "code",
      "source": [
        ""
      ],
      "metadata": {
        "id": "gzU65wkvusFv"
      },
      "execution_count": 125,
      "outputs": []
    }
  ]
}